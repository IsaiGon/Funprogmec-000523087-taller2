{
  "nbformat": 4,
  "nbformat_minor": 0,
  "metadata": {
    "colab": {
      "provenance": [],
      "authorship_tag": "ABX9TyONRhjRh3mRnMBxxdgWgfsl",
      "include_colab_link": true
    },
    "kernelspec": {
      "name": "python3",
      "display_name": "Python 3"
    },
    "language_info": {
      "name": "python"
    }
  },
  "cells": [
    {
      "cell_type": "markdown",
      "metadata": {
        "id": "view-in-github",
        "colab_type": "text"
      },
      "source": [
        "<a href=\"https://colab.research.google.com/github/IsaiGon/Funprogmec-000523087-taller2/blob/main/Untitled7.ipynb\" target=\"_parent\"><img src=\"https://colab.research.google.com/assets/colab-badge.svg\" alt=\"Open In Colab\"/></a>"
      ]
    },
    {
      "cell_type": "code",
      "execution_count": null,
      "metadata": {
        "id": "54zvtHa81smD"
      },
      "outputs": [],
      "source": [
        "#calcular el movimiento de una particula que experomenta un movimiento uniforme acelerado\n",
        "# formula.\n",
        "x= x0+v0.t+1/\"2a.t2\n",
        "# variables\n",
        "x_1:posicion de la particula t_1 = 0\n",
        "x_2:posicion de la particula t_2=5\n",
        "# valores\n",
        "x_0 = 3\n",
        "v_0 = 6\n",
        "a = 6\n",
        "# operacion\n",
        "x=3+0.0+1/2.25=83\n",
        "#print. 84\n",
        "\n",
        "\""
      ]
    }
  ]
}